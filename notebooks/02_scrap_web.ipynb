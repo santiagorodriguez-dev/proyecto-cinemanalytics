{
 "cells": [
  {
   "cell_type": "code",
   "execution_count": 1,
   "metadata": {},
   "outputs": [],
   "source": [
    "import sys\n",
    "sys.path.append(\"../\")\n",
    "from src import soporte_scrap as scrap"
   ]
  },
  {
   "cell_type": "code",
   "execution_count": 2,
   "metadata": {},
   "outputs": [],
   "source": [
    "parametros = [(2021,2),(2020,3),(2019,4)]\n",
    "url = \"https://www.ine.es/jaxi/Tabla.htm?path=/t20/e245/p08/l0/&file=03001.px&L=0\"\n",
    "scrap.main(parametros, url)"
   ]
  },
  {
   "cell_type": "code",
   "execution_count": 3,
   "metadata": {},
   "outputs": [],
   "source": [
    "parametros = [(2021,2),(2020,3),(2019,4)]\n",
    "url = \"https://www.ine.es/jaxi/Tabla.htm?tpx=67284&L=0\"\n",
    "scrap.main(parametros, url)"
   ]
  },
  {
   "cell_type": "code",
   "execution_count": 4,
   "metadata": {},
   "outputs": [
    {
     "name": "stdout",
     "output_type": "stream",
     "text": [
      "Error al clickear en la descarga del csv, probamos otra vez, hasta que no este en popup\n",
      "Error al clickear en la descarga del csv, probamos otra vez, hasta que no este en popup\n",
      "Error al clickear en la descarga del csv, probamos otra vez, hasta que no este en popup\n"
     ]
    }
   ],
   "source": [
    "parametros = [(2021,2),(2020,3),(2019,4)]\n",
    "url = \"https://www.ine.es/jaxi/Tabla.htm?tpx=67285&L=0\"\n",
    "scrap.main(parametros, url)"
   ]
  }
 ],
 "metadata": {
  "kernelspec": {
   "display_name": "entorno_develop",
   "language": "python",
   "name": "python3"
  },
  "language_info": {
   "codemirror_mode": {
    "name": "ipython",
    "version": 3
   },
   "file_extension": ".py",
   "mimetype": "text/x-python",
   "name": "python",
   "nbconvert_exporter": "python",
   "pygments_lexer": "ipython3",
   "version": "3.12.4"
  }
 },
 "nbformat": 4,
 "nbformat_minor": 2
}
