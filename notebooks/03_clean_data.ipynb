{
 "cells": [
  {
   "cell_type": "code",
   "execution_count": 1,
   "metadata": {},
   "outputs": [],
   "source": [
    "# Importaciones\n",
    "import pandas as pd\n",
    "import sys\n",
    "import os\n",
    "sys.path.append(\"../\")\n",
    "from src import call_api_demanda as demanda\n",
    "from src import soporte_clean as clean"
   ]
  },
  {
   "cell_type": "code",
   "execution_count": 2,
   "metadata": {},
   "outputs": [
    {
     "data": {
      "text/html": [
       "<div>\n",
       "<style scoped>\n",
       "    .dataframe tbody tr th:only-of-type {\n",
       "        vertical-align: middle;\n",
       "    }\n",
       "\n",
       "    .dataframe tbody tr th {\n",
       "        vertical-align: top;\n",
       "    }\n",
       "\n",
       "    .dataframe thead th {\n",
       "        text-align: right;\n",
       "    }\n",
       "</style>\n",
       "<table border=\"1\" class=\"dataframe\">\n",
       "  <thead>\n",
       "    <tr style=\"text-align: right;\">\n",
       "      <th></th>\n",
       "      <th>value</th>\n",
       "      <th>percentage</th>\n",
       "      <th>datetime</th>\n",
       "      <th>title</th>\n",
       "      <th>comunidad</th>\n",
       "      <th>codigo</th>\n",
       "    </tr>\n",
       "  </thead>\n",
       "  <tbody>\n",
       "    <tr>\n",
       "      <th>58</th>\n",
       "      <td>22987.7035</td>\n",
       "      <td>1</td>\n",
       "      <td>2021-11-01T00:00:00.000+01:00</td>\n",
       "      <td>Generación renovable</td>\n",
       "      <td>Illes Balears</td>\n",
       "      <td>8743</td>\n",
       "    </tr>\n",
       "    <tr>\n",
       "      <th>75</th>\n",
       "      <td>829883.4895</td>\n",
       "      <td>1</td>\n",
       "      <td>2020-04-01T00:00:00.000+02:00</td>\n",
       "      <td>Generación renovable</td>\n",
       "      <td>Cataluña</td>\n",
       "      <td>9</td>\n",
       "    </tr>\n",
       "    <tr>\n",
       "      <th>7</th>\n",
       "      <td>240480.068</td>\n",
       "      <td>0.521472</td>\n",
       "      <td>2019-08-01T00:00:00.000+02:00</td>\n",
       "      <td>Hidráulica</td>\n",
       "      <td>Cataluña</td>\n",
       "      <td>9</td>\n",
       "    </tr>\n",
       "    <tr>\n",
       "      <th>2</th>\n",
       "      <td>195848.533</td>\n",
       "      <td>0.61068</td>\n",
       "      <td>2020-03-01T00:00:00.000+01:00</td>\n",
       "      <td>Hidráulica</td>\n",
       "      <td>Principado de Asturias</td>\n",
       "      <td>11</td>\n",
       "    </tr>\n",
       "    <tr>\n",
       "      <th>50</th>\n",
       "      <td>15266.7695</td>\n",
       "      <td>0.00768</td>\n",
       "      <td>2021-03-01T00:00:00.000+01:00</td>\n",
       "      <td>Residuos renovables</td>\n",
       "      <td>Galicia</td>\n",
       "      <td>17</td>\n",
       "    </tr>\n",
       "  </tbody>\n",
       "</table>\n",
       "</div>"
      ],
      "text/plain": [
       "          value percentage                       datetime  \\\n",
       "58   22987.7035          1  2021-11-01T00:00:00.000+01:00   \n",
       "75  829883.4895          1  2020-04-01T00:00:00.000+02:00   \n",
       "7    240480.068   0.521472  2019-08-01T00:00:00.000+02:00   \n",
       "2    195848.533    0.61068  2020-03-01T00:00:00.000+01:00   \n",
       "50   15266.7695    0.00768  2021-03-01T00:00:00.000+01:00   \n",
       "\n",
       "                   title               comunidad codigo  \n",
       "58  Generación renovable           Illes Balears   8743  \n",
       "75  Generación renovable                Cataluña      9  \n",
       "7             Hidráulica                Cataluña      9  \n",
       "2             Hidráulica  Principado de Asturias     11  \n",
       "50   Residuos renovables                 Galicia     17  "
      ]
     },
     "metadata": {},
     "output_type": "display_data"
    },
    {
     "data": {
      "text/plain": [
       "3557"
      ]
     },
     "metadata": {},
     "output_type": "display_data"
    }
   ],
   "source": [
    "path_ficheros = \"../data/generacion\"\n",
    "\n",
    "df_final_generacion = pd.DataFrame()\n",
    "\n",
    "for f in os.listdir(path_ficheros):\n",
    "   ruta_carpeta = path_ficheros + '/' + f\n",
    "   df = pd.read_csv(ruta_carpeta, index_col = 0)\n",
    "   df_final_generacion =  pd.concat([df_final_generacion, clean.clean_generacion(df,f)])\n",
    "\n",
    "display(df_final_generacion.sample(5))\n",
    "display(df_final_generacion.shape[0])"
   ]
  },
  {
   "cell_type": "code",
   "execution_count": 3,
   "metadata": {},
   "outputs": [
    {
     "data": {
      "text/html": [
       "<div>\n",
       "<style scoped>\n",
       "    .dataframe tbody tr th:only-of-type {\n",
       "        vertical-align: middle;\n",
       "    }\n",
       "\n",
       "    .dataframe tbody tr th {\n",
       "        vertical-align: top;\n",
       "    }\n",
       "\n",
       "    .dataframe thead th {\n",
       "        text-align: right;\n",
       "    }\n",
       "</style>\n",
       "<table border=\"1\" class=\"dataframe\">\n",
       "  <thead>\n",
       "    <tr style=\"text-align: right;\">\n",
       "      <th></th>\n",
       "      <th>value</th>\n",
       "      <th>percentage</th>\n",
       "      <th>datetime</th>\n",
       "      <th>comunidad</th>\n",
       "      <th>codigo</th>\n",
       "    </tr>\n",
       "  </thead>\n",
       "  <tbody>\n",
       "    <tr>\n",
       "      <th>5</th>\n",
       "      <td>16601.305</td>\n",
       "      <td>1</td>\n",
       "      <td>2021-06-01T00:00:00.000+02:00</td>\n",
       "      <td>Melilla</td>\n",
       "      <td>8745</td>\n",
       "    </tr>\n",
       "    <tr>\n",
       "      <th>9</th>\n",
       "      <td>944877.518</td>\n",
       "      <td>1</td>\n",
       "      <td>2019-10-01T00:00:00.000+02:00</td>\n",
       "      <td>Castilla - La Mancha</td>\n",
       "      <td>7</td>\n",
       "    </tr>\n",
       "    <tr>\n",
       "      <th>7</th>\n",
       "      <td>3786647.665</td>\n",
       "      <td>1</td>\n",
       "      <td>2019-08-01T00:00:00.000+02:00</td>\n",
       "      <td>Andalucía</td>\n",
       "      <td>4</td>\n",
       "    </tr>\n",
       "    <tr>\n",
       "      <th>3</th>\n",
       "      <td>15221.094</td>\n",
       "      <td>1</td>\n",
       "      <td>2019-04-01T00:00:00.000+02:00</td>\n",
       "      <td>Ceuta</td>\n",
       "      <td>8744</td>\n",
       "    </tr>\n",
       "    <tr>\n",
       "      <th>3</th>\n",
       "      <td>358214.104</td>\n",
       "      <td>1</td>\n",
       "      <td>2019-04-01T00:00:00.000+02:00</td>\n",
       "      <td>Cantabria</td>\n",
       "      <td>6</td>\n",
       "    </tr>\n",
       "  </tbody>\n",
       "</table>\n",
       "</div>"
      ],
      "text/plain": [
       "         value  percentage                       datetime  \\\n",
       "5    16601.305           1  2021-06-01T00:00:00.000+02:00   \n",
       "9   944877.518           1  2019-10-01T00:00:00.000+02:00   \n",
       "7  3786647.665           1  2019-08-01T00:00:00.000+02:00   \n",
       "3    15221.094           1  2019-04-01T00:00:00.000+02:00   \n",
       "3   358214.104           1  2019-04-01T00:00:00.000+02:00   \n",
       "\n",
       "              comunidad codigo  \n",
       "5               Melilla   8745  \n",
       "9  Castilla - La Mancha      7  \n",
       "7             Andalucía      4  \n",
       "3                 Ceuta   8744  \n",
       "3             Cantabria      6  "
      ]
     },
     "metadata": {},
     "output_type": "display_data"
    },
    {
     "data": {
      "text/plain": [
       "684"
      ]
     },
     "metadata": {},
     "output_type": "display_data"
    }
   ],
   "source": [
    "path_ficheros = \"../data/evolucion\"\n",
    "\n",
    "df_final_evolucion= pd.DataFrame()\n",
    "\n",
    "for f in os.listdir(path_ficheros):\n",
    "   ruta_carpeta = path_ficheros + '/' + f\n",
    "   df = pd.read_csv(ruta_carpeta, index_col = 0)\n",
    "   df_final_evolucion =  pd.concat([df_final_evolucion, clean.clean_evolucion(df,f)])\n",
    "\n",
    "display(df_final_evolucion.sample(5))\n",
    "display(df_final_evolucion.shape[0])"
   ]
  }
 ],
 "metadata": {
  "kernelspec": {
   "display_name": "entorno_develop",
   "language": "python",
   "name": "python3"
  },
  "language_info": {
   "codemirror_mode": {
    "name": "ipython",
    "version": 3
   },
   "file_extension": ".py",
   "mimetype": "text/x-python",
   "name": "python",
   "nbconvert_exporter": "python",
   "pygments_lexer": "ipython3",
   "version": "3.12.4"
  }
 },
 "nbformat": 4,
 "nbformat_minor": 2
}
